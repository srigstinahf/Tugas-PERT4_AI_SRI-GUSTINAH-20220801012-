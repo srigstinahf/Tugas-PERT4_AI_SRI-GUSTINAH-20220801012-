{
  "nbformat": 4,
  "nbformat_minor": 0,
  "metadata": {
    "colab": {
      "provenance": [],
      "authorship_tag": "ABX9TyOl7CIdGiSAG+32IS2e7jg0",
      "include_colab_link": true
    },
    "kernelspec": {
      "name": "python3",
      "display_name": "Python 3"
    },
    "language_info": {
      "name": "python"
    }
  },
  "cells": [
    {
      "cell_type": "markdown",
      "metadata": {
        "id": "view-in-github",
        "colab_type": "text"
      },
      "source": [
        "<a href=\"https://colab.research.google.com/github/srigstinahf/Tugas-PERT4_AI_SRI-GUSTINAH-20220801012-/blob/main/UAS_AI_CLUSTERING.ipynb\" target=\"_parent\"><img src=\"https://colab.research.google.com/assets/colab-badge.svg\" alt=\"Open In Colab\"/></a>"
      ]
    },
    {
      "cell_type": "markdown",
      "source": [
        "**NAMA: SRI GUSTINAH FAUZIAH**\n",
        "\n",
        "**NIM: 20220801012**\n",
        "\n",
        "**Prodi: Teknik Informatika**\n",
        "\n",
        "**UAS AI - CLUSTERING DATA**"
      ],
      "metadata": {
        "id": "A-03plOHT2lX"
      }
    },
    {
      "cell_type": "markdown",
      "source": [
        "Preprocessing Data"
      ],
      "metadata": {
        "id": "amy2H9NxG5tg"
      }
    },
    {
      "cell_type": "code",
      "source": [
        "import pandas as pd\n",
        "\n",
        "# Reading dataset\n",
        "file_path = \"netflix_titles.csv\"\n",
        "df = pd.read_csv(file_path)\n",
        "\n",
        "# Cleaning data\n",
        "# Checking missing values\n",
        "missing_values = df.isnull().sum()\n",
        "\n",
        "# Remove columns with too many missing values ​​(threshold 50%)\n",
        "threshold = len(df) * 0.5\n",
        "df_cleaned = df.dropna(thresh=threshold, axis=1)\n",
        "\n",
        "# Fill empty values ​​in categorical columns with \"Unknown\"\n",
        "categorical_columns = df_cleaned.select_dtypes(include=['object']).columns\n",
        "df_cleaned[categorical_columns] = df_cleaned[categorical_columns].fillna(\"Unknown\")\n",
        "\n",
        "# Data Transformation\n",
        "# Convert 'date_added' to datetime format\n",
        "df_cleaned['date_added'] = pd.to_datetime(df_cleaned['date_added'], errors='coerce')\n",
        "\n",
        "# Extract numbers from 'duration' column to get duration in numeric form\n",
        "df_cleaned['duration'] = df_cleaned['duration'].astype(str)\n",
        "df_cleaned['duration_numeric'] = df_cleaned['duration'].str.extract('(\\d+)').astype(float)\n",
        "\n",
        "# Add new column 'is_movie' to differentiate movies and TV shows\n",
        "df_cleaned['is_movie'] = df_cleaned['type'].apply(lambda x: 1 if x == 'Movie' else 0)\n",
        "\n",
        "# Save the cleaned and transformed dataset\n",
        "df_cleaned.to_csv(\"cleaned_netflix_data.csv\", index=False)\n",
        "\n",
        "# Show final result\n",
        "print(df_cleaned.head())"
      ],
      "metadata": {
        "colab": {
          "base_uri": "https://localhost:8080/"
        },
        "id": "LcGt5zgYDlSX",
        "outputId": "fdcc342c-8cc0-4825-c8bb-773d3bf99aaf"
      },
      "execution_count": 14,
      "outputs": [
        {
          "output_type": "stream",
          "name": "stdout",
          "text": [
            "  show_id     type                  title         director  \\\n",
            "0      s1    Movie   Dick Johnson Is Dead  Kirsten Johnson   \n",
            "1      s2  TV Show          Blood & Water          Unknown   \n",
            "2      s3  TV Show              Ganglands  Julien Leclercq   \n",
            "3      s4  TV Show  Jailbirds New Orleans          Unknown   \n",
            "4      s5  TV Show           Kota Factory          Unknown   \n",
            "\n",
            "                                                cast        country  \\\n",
            "0                                            Unknown  United States   \n",
            "1  Ama Qamata, Khosi Ngema, Gail Mabalane, Thaban...   South Africa   \n",
            "2  Sami Bouajila, Tracy Gotoas, Samuel Jouy, Nabi...        Unknown   \n",
            "3                                            Unknown        Unknown   \n",
            "4  Mayur More, Jitendra Kumar, Ranjan Raj, Alam K...          India   \n",
            "\n",
            "  date_added  release_year rating   duration  \\\n",
            "0 2021-09-25          2020  PG-13     90 min   \n",
            "1 2021-09-24          2021  TV-MA  2 Seasons   \n",
            "2 2021-09-24          2021  TV-MA   1 Season   \n",
            "3 2021-09-24          2021  TV-MA   1 Season   \n",
            "4 2021-09-24          2021  TV-MA  2 Seasons   \n",
            "\n",
            "                                           listed_in  \\\n",
            "0                                      Documentaries   \n",
            "1    International TV Shows, TV Dramas, TV Mysteries   \n",
            "2  Crime TV Shows, International TV Shows, TV Act...   \n",
            "3                             Docuseries, Reality TV   \n",
            "4  International TV Shows, Romantic TV Shows, TV ...   \n",
            "\n",
            "                                         description  duration_numeric  \\\n",
            "0  As her father nears the end of his life, filmm...              90.0   \n",
            "1  After crossing paths at a party, a Cape Town t...               2.0   \n",
            "2  To protect his family from a powerful drug lor...               1.0   \n",
            "3  Feuds, flirtations and toilet talk go down amo...               1.0   \n",
            "4  In a city of coaching centers known to train I...               2.0   \n",
            "\n",
            "   is_movie  \n",
            "0         1  \n",
            "1         0  \n",
            "2         0  \n",
            "3         0  \n",
            "4         0  \n"
          ]
        }
      ]
    },
    {
      "cell_type": "markdown",
      "source": [
        "Preprocessing data: Memilih Fitur-fitur relevan"
      ],
      "metadata": {
        "id": "arDQTPW-HXYk"
      }
    },
    {
      "cell_type": "code",
      "source": [
        "# Feature Selection\n",
        "# Selecting relevant numerical and categorical features\n",
        "selected_features = [\n",
        "    'release_year', 'duration_numeric', 'is_movie'\n",
        "]\n",
        "\n",
        "df_selected = df_cleaned[selected_features]\n",
        "\n",
        "# Display selected dataset\n",
        "display_dataframe_to_user(name=\"Selected Features Dataset\", dataframe=df_selected)  # Call the defined function\n"
      ],
      "metadata": {
        "colab": {
          "base_uri": "https://localhost:8080/"
        },
        "id": "i2ux6kAdDuns",
        "outputId": "ff687151-8fdc-47a3-c22a-d7cde6dd1e9d"
      },
      "execution_count": 28,
      "outputs": [
        {
          "output_type": "stream",
          "name": "stdout",
          "text": [
            "\n",
            "Selected Features Dataset:\n",
            "\n",
            "      release_year  duration_numeric  is_movie\n",
            "0             2020              90.0         1\n",
            "1             2021               2.0         0\n",
            "2             2021               1.0         0\n",
            "3             2021               1.0         0\n",
            "4             2021               2.0         0\n",
            "...            ...               ...       ...\n",
            "8802          2007             158.0         1\n",
            "8803          2018               2.0         0\n",
            "8804          2009              88.0         1\n",
            "8805          2006              88.0         1\n",
            "8806          2015             111.0         1\n",
            "\n",
            "[8807 rows x 3 columns]\n"
          ]
        }
      ]
    },
    {
      "cell_type": "markdown",
      "source": [
        "Clustering menggunakan K-Means dan jumlah klaster 2"
      ],
      "metadata": {
        "id": "F57rGOjMH00X"
      }
    },
    {
      "cell_type": "code",
      "source": [
        "from sklearn.cluster import KMeans\n",
        "import matplotlib.pyplot as plt\n",
        "\n",
        "# Determine the number of clusters (K) using the Elbow Method\n",
        "wcss = []\n",
        "K_range = range(1, 11)\n",
        "\n",
        "for k in K_range:\n",
        "    kmeans = KMeans(n_clusters=k, random_state=42, n_init=10)\n",
        "    kmeans.fit(df_selected.dropna())\n",
        "    wcss.append(kmeans.inertia_)\n",
        "\n",
        "# Plot the Elbow Method graph\n",
        "plt.figure(figsize=(8, 5))\n",
        "plt.plot(K_range, wcss, marker='o', linestyle='-')\n",
        "plt.xlabel('Number of Clusters (K)')\n",
        "plt.ylabel('WCSS (Within-Cluster Sum of Squares)')\n",
        "plt.title('Elbow Method for Optimal K')\n",
        "plt.grid(True)\n",
        "plt.show()"
      ],
      "metadata": {
        "colab": {
          "base_uri": "https://localhost:8080/",
          "height": 487
        },
        "id": "aO6EGCBIE4Qv",
        "outputId": "c93084a1-b456-4004-b88a-e2b71fb32ede"
      },
      "execution_count": 18,
      "outputs": [
        {
          "output_type": "display_data",
          "data": {
            "text/plain": [
              "<Figure size 800x500 with 1 Axes>"
            ],
            "image/png": "[encoded data removed]"
          },
          "metadata": {}
        }
      ]
    },
    {
      "cell_type": "code",
      "source": [
        "# Apply K-Means Clustering with K=2\n",
        "from sklearn.cluster import KMeans\n",
        "\n",
        "kmeans = KMeans(n_clusters=2, random_state=42, n_init=10)\n",
        "df_selected['cluster'] = kmeans.fit_predict(df_selected)\n",
        "\n",
        "# Display the clustered dataset\n",
        "display_dataframe_to_user(name=\"Clustered Netflix Dataset\", dataframe=df_selected)\n"
      ],
      "metadata": {
        "colab": {
          "base_uri": "https://localhost:8080/"
        },
        "id": "7inac-VxFoIK",
        "outputId": "183b95ea-b1db-40dd-f7d5-496633ab5fc4"
      },
      "execution_count": 26,
      "outputs": [
        {
          "output_type": "stream",
          "name": "stdout",
          "text": [
            "\n",
            "Clustered Netflix Dataset:\n",
            "\n",
            "      release_year  duration_numeric  is_movie  cluster\n",
            "0             2020              90.0         1        0\n",
            "1             2021               2.0         0        1\n",
            "2             2021               1.0         0        1\n",
            "3             2021               1.0         0        1\n",
            "4             2021               2.0         0        1\n",
            "...            ...               ...       ...      ...\n",
            "8802          2007             158.0         1        0\n",
            "8803          2018               2.0         0        1\n",
            "8804          2009              88.0         1        0\n",
            "8805          2006              88.0         1        0\n",
            "8806          2015             111.0         1        0\n",
            "\n",
            "[8804 rows x 4 columns]\n"
          ]
        }
      ]
    },
    {
      "cell_type": "markdown",
      "source": [
        "Penggabungan dengan Machine Learning (Regresi)"
      ],
      "metadata": {
        "id": "cDldF2iGIo7Z"
      }
    },
    {
      "cell_type": "code",
      "source": [
        "# Train a Regression Model using Clusters as Additional Feature\n",
        "from sklearn.model_selection import train_test_split\n",
        "from sklearn.linear_model import LinearRegression\n",
        "from sklearn.metrics import mean_absolute_error, mean_squared_error, r2_score\n",
        "\n",
        "# Define features (X) and target variable (y)\n",
        "X = df_selected[['release_year', 'duration_numeric', 'is_movie', 'cluster']]\n",
        "y = df_selected['duration_numeric']  # Predicting duration\n",
        "\n",
        "# Split data into training and testing sets\n",
        "X_train, X_test, y_train, y_test = train_test_split(X, y, test_size=0.2, random_state=42)\n",
        "\n",
        "# Train the regression model\n",
        "model = LinearRegression()\n",
        "model.fit(X_train, y_train)\n",
        "\n",
        "# Predict on the test set\n",
        "y_pred = model.predict(X_test)\n",
        "\n",
        "# Evaluate model performance\n",
        "mae = mean_absolute_error(y_test, y_pred)\n",
        "mse = mean_squared_error(y_test, y_pred)\n",
        "r2 = r2_score(y_test, y_pred)\n",
        "\n",
        "# Display evaluation metrics\n",
        "evaluation_results = {\n",
        "    \"Mean Absolute Error (MAE)\": mae,\n",
        "    \"Mean Squared Error (MSE)\": mse,\n",
        "    \"R-Squared (R2 Score)\": r2\n",
        "}\n",
        "\n",
        "evaluation_results\n"
      ],
      "metadata": {
        "colab": {
          "base_uri": "https://localhost:8080/"
        },
        "id": "OEh7cKBAIBUS",
        "outputId": "76cf3453-49af-44a6-c411-013e02546f74"
      },
      "execution_count": 32,
      "outputs": [
        {
          "output_type": "execute_result",
          "data": {
            "text/plain": [
              "{'Mean Absolute Error (MAE)': 5.409818595994045e-14,\n",
              " 'Mean Squared Error (MSE)': 4.133701081409679e-27,\n",
              " 'R-Squared (R2 Score)': 1.0}"
            ]
          },
          "metadata": {},
          "execution_count": 32
        }
      ]
    },
    {
      "cell_type": "markdown",
      "source": [
        "Evaluasi dan Pengotimalan"
      ],
      "metadata": {
        "id": "wl6zeJoEPG3G"
      }
    },
    {
      "cell_type": "code",
      "source": [
        "# Train a Regression Model without Clustering for Comparison\n",
        "X_no_cluster = df_selected[['release_year', 'duration_numeric', 'is_movie']]\n",
        "X_train_nc, X_test_nc, y_train_nc, y_test_nc = train_test_split(X_no_cluster, y, test_size=0.2, random_state=42)\n",
        "\n",
        "model_no_cluster = LinearRegression()\n",
        "model_no_cluster.fit(X_train_nc, y_train_nc)\n",
        "y_pred_nc = model_no_cluster.predict(X_test_nc)\n",
        "\n",
        "# Evaluate performance without clustering\n",
        "mae_nc = mean_absolute_error(y_test_nc, y_pred_nc)\n",
        "mse_nc = mean_squared_error(y_test_nc, y_pred_nc)\n",
        "r2_nc = r2_score(y_test_nc, y_pred_nc)\n",
        "\n",
        "evaluation_results[\"Model without Clustering\"] = {\"MAE\": mae_nc, \"MSE\": mse_nc, \"R2\": r2_nc}\n",
        "\n",
        "# Step 7: Hyperparameter Optimization for Clustering\n",
        "from sklearn.model_selection import GridSearchCV\n",
        "\n",
        "param_grid = {\n",
        "    'n_clusters': [2, 3, 4, 5, 6]\n",
        "}\n",
        "\n",
        "grid_search = GridSearchCV(KMeans(random_state=42, n_init=10), param_grid, cv=5, scoring='neg_mean_squared_error')\n",
        "grid_search.fit(df_selected[['release_year', 'duration_numeric', 'is_movie']])\n",
        "\n",
        "# Best number of clusters\n",
        "best_k = grid_search.best_params_['n_clusters']\n",
        "evaluation_results[\"Best K for Clustering\"] = best_k\n",
        "\n",
        "# Step 8: Classification Model Evaluation (Accuracy, Precision, Recall)\n",
        "from sklearn.linear_model import LogisticRegression\n",
        "from sklearn.metrics import accuracy_score, precision_score, recall_score\n",
        "\n",
        "# Categorize duration: Short (<=60 min), Medium (61-120 min), Long (>120 min)\n",
        "df_selected['duration_category'] = pd.cut(df_selected['duration_numeric'], bins=[0, 60, 120, float('inf')], labels=[0, 1, 2])\n",
        "\n",
        "# Define classification target\n",
        "y_classification = df_selected['duration_category'].dropna().astype(int)\n",
        "X_classification = df_selected.loc[y_classification.index, ['release_year', 'is_movie', 'cluster']]\n",
        "\n",
        "# Split data\n",
        "X_train_class, X_test_class, y_train_class, y_test_class = train_test_split(X_classification, y_classification, test_size=0.2, random_state=42)\n",
        "\n",
        "# Train Logistic Regression Model for Classification\n",
        "clf = LogisticRegression(random_state=42, max_iter=1000)\n",
        "clf.fit(X_train_class, y_train_class)\n",
        "y_pred_class = clf.predict(X_test_class)\n",
        "\n",
        "# Calculate accuracy, precision, and recall\n",
        "accuracy = accuracy_score(y_test_class, y_pred_class)\n",
        "precision = precision_score(y_test_class, y_pred_class, average='weighted', zero_division=0)\n",
        "recall = recall_score(y_test_class, y_pred_class, average='weighted', zero_division=0)\n",
        "\n",
        "evaluation_results[\"Classification Metrics\"] = {\n",
        "    \"Accuracy\": accuracy,\n",
        "    \"Precision\": precision,\n",
        "    \"Recall\": recall\n",
        "}\n",
        "\n",
        "evaluation_results\n"
      ],
      "metadata": {
        "colab": {
          "base_uri": "https://localhost:8080/"
        },
        "id": "nNSIAGF_IyK1",
        "outputId": "caf41f74-8900-4188-82c3-df17b0c907a3"
      },
      "execution_count": 36,
      "outputs": [
        {
          "output_type": "stream",
          "name": "stderr",
          "text": [
            "/usr/local/lib/python3.11/dist-packages/sklearn/model_selection/_validation.py:960: UserWarning: Scoring failed. The score on this train-test partition for these parameters will be set to nan. Details: \n",
            "Traceback (most recent call last):\n",
            "  File \"/usr/local/lib/python3.11/dist-packages/sklearn/model_selection/_validation.py\", line 947, in _score\n",
            "    scores = scorer(estimator, X_test, **score_params)\n",
            "             ^^^^^^^^^^^^^^^^^^^^^^^^^^^^^^^^^^^^^^^^^\n",
            "TypeError: _BaseScorer.__call__() missing 1 required positional argument: 'y_true'\n",
            "\n",
            "  warnings.warn(\n",
            "/usr/local/lib/python3.11/dist-packages/sklearn/model_selection/_validation.py:960: UserWarning: Scoring failed. The score on this train-test partition for these parameters will be set to nan. Details: \n",
            "Traceback (most recent call last):\n",
            "  File \"/usr/local/lib/python3.11/dist-packages/sklearn/model_selection/_validation.py\", line 947, in _score\n",
            "    scores = scorer(estimator, X_test, **score_params)\n",
            "             ^^^^^^^^^^^^^^^^^^^^^^^^^^^^^^^^^^^^^^^^^\n",
            "TypeError: _BaseScorer.__call__() missing 1 required positional argument: 'y_true'\n",
            "\n",
            "  warnings.warn(\n",
            "/usr/local/lib/python3.11/dist-packages/sklearn/model_selection/_validation.py:960: UserWarning: Scoring failed. The score on this train-test partition for these parameters will be set to nan. Details: \n",
            "Traceback (most recent call last):\n",
            "  File \"/usr/local/lib/python3.11/dist-packages/sklearn/model_selection/_validation.py\", line 947, in _score\n",
            "    scores = scorer(estimator, X_test, **score_params)\n",
            "             ^^^^^^^^^^^^^^^^^^^^^^^^^^^^^^^^^^^^^^^^^\n",
            "TypeError: _BaseScorer.__call__() missing 1 required positional argument: 'y_true'\n",
            "\n",
            "  warnings.warn(\n",
            "/usr/local/lib/python3.11/dist-packages/sklearn/model_selection/_validation.py:960: UserWarning: Scoring failed. The score on this train-test partition for these parameters will be set to nan. Details: \n",
            "Traceback (most recent call last):\n",
            "  File \"/usr/local/lib/python3.11/dist-packages/sklearn/model_selection/_validation.py\", line 947, in _score\n",
            "    scores = scorer(estimator, X_test, **score_params)\n",
            "             ^^^^^^^^^^^^^^^^^^^^^^^^^^^^^^^^^^^^^^^^^\n",
            "TypeError: _BaseScorer.__call__() missing 1 required positional argument: 'y_true'\n",
            "\n",
            "  warnings.warn(\n",
            "/usr/local/lib/python3.11/dist-packages/sklearn/model_selection/_validation.py:960: UserWarning: Scoring failed. The score on this train-test partition for these parameters will be set to nan. Details: \n",
            "Traceback (most recent call last):\n",
            "  File \"/usr/local/lib/python3.11/dist-packages/sklearn/model_selection/_validation.py\", line 947, in _score\n",
            "    scores = scorer(estimator, X_test, **score_params)\n",
            "             ^^^^^^^^^^^^^^^^^^^^^^^^^^^^^^^^^^^^^^^^^\n",
            "TypeError: _BaseScorer.__call__() missing 1 required positional argument: 'y_true'\n",
            "\n",
            "  warnings.warn(\n",
            "/usr/local/lib/python3.11/dist-packages/sklearn/model_selection/_validation.py:960: UserWarning: Scoring failed. The score on this train-test partition for these parameters will be set to nan. Details: \n",
            "Traceback (most recent call last):\n",
            "  File \"/usr/local/lib/python3.11/dist-packages/sklearn/model_selection/_validation.py\", line 947, in _score\n",
            "    scores = scorer(estimator, X_test, **score_params)\n",
            "             ^^^^^^^^^^^^^^^^^^^^^^^^^^^^^^^^^^^^^^^^^\n",
            "TypeError: _BaseScorer.__call__() missing 1 required positional argument: 'y_true'\n",
            "\n",
            "  warnings.warn(\n",
            "/usr/local/lib/python3.11/dist-packages/sklearn/model_selection/_validation.py:960: UserWarning: Scoring failed. The score on this train-test partition for these parameters will be set to nan. Details: \n",
            "Traceback (most recent call last):\n",
            "  File \"/usr/local/lib/python3.11/dist-packages/sklearn/model_selection/_validation.py\", line 947, in _score\n",
            "    scores = scorer(estimator, X_test, **score_params)\n",
            "             ^^^^^^^^^^^^^^^^^^^^^^^^^^^^^^^^^^^^^^^^^\n",
            "TypeError: _BaseScorer.__call__() missing 1 required positional argument: 'y_true'\n",
            "\n",
            "  warnings.warn(\n",
            "/usr/local/lib/python3.11/dist-packages/sklearn/model_selection/_validation.py:960: UserWarning: Scoring failed. The score on this train-test partition for these parameters will be set to nan. Details: \n",
            "Traceback (most recent call last):\n",
            "  File \"/usr/local/lib/python3.11/dist-packages/sklearn/model_selection/_validation.py\", line 947, in _score\n",
            "    scores = scorer(estimator, X_test, **score_params)\n",
            "             ^^^^^^^^^^^^^^^^^^^^^^^^^^^^^^^^^^^^^^^^^\n",
            "TypeError: _BaseScorer.__call__() missing 1 required positional argument: 'y_true'\n",
            "\n",
            "  warnings.warn(\n",
            "/usr/local/lib/python3.11/dist-packages/sklearn/model_selection/_validation.py:960: UserWarning: Scoring failed. The score on this train-test partition for these parameters will be set to nan. Details: \n",
            "Traceback (most recent call last):\n",
            "  File \"/usr/local/lib/python3.11/dist-packages/sklearn/model_selection/_validation.py\", line 947, in _score\n",
            "    scores = scorer(estimator, X_test, **score_params)\n",
            "             ^^^^^^^^^^^^^^^^^^^^^^^^^^^^^^^^^^^^^^^^^\n",
            "TypeError: _BaseScorer.__call__() missing 1 required positional argument: 'y_true'\n",
            "\n",
            "  warnings.warn(\n",
            "/usr/local/lib/python3.11/dist-packages/sklearn/model_selection/_validation.py:960: UserWarning: Scoring failed. The score on this train-test partition for these parameters will be set to nan. Details: \n",
            "Traceback (most recent call last):\n",
            "  File \"/usr/local/lib/python3.11/dist-packages/sklearn/model_selection/_validation.py\", line 947, in _score\n",
            "    scores = scorer(estimator, X_test, **score_params)\n",
            "             ^^^^^^^^^^^^^^^^^^^^^^^^^^^^^^^^^^^^^^^^^\n",
            "TypeError: _BaseScorer.__call__() missing 1 required positional argument: 'y_true'\n",
            "\n",
            "  warnings.warn(\n",
            "/usr/local/lib/python3.11/dist-packages/sklearn/model_selection/_validation.py:960: UserWarning: Scoring failed. The score on this train-test partition for these parameters will be set to nan. Details: \n",
            "Traceback (most recent call last):\n",
            "  File \"/usr/local/lib/python3.11/dist-packages/sklearn/model_selection/_validation.py\", line 947, in _score\n",
            "    scores = scorer(estimator, X_test, **score_params)\n",
            "             ^^^^^^^^^^^^^^^^^^^^^^^^^^^^^^^^^^^^^^^^^\n",
            "TypeError: _BaseScorer.__call__() missing 1 required positional argument: 'y_true'\n",
            "\n",
            "  warnings.warn(\n",
            "/usr/local/lib/python3.11/dist-packages/sklearn/model_selection/_validation.py:960: UserWarning: Scoring failed. The score on this train-test partition for these parameters will be set to nan. Details: \n",
            "Traceback (most recent call last):\n",
            "  File \"/usr/local/lib/python3.11/dist-packages/sklearn/model_selection/_validation.py\", line 947, in _score\n",
            "    scores = scorer(estimator, X_test, **score_params)\n",
            "             ^^^^^^^^^^^^^^^^^^^^^^^^^^^^^^^^^^^^^^^^^\n",
            "TypeError: _BaseScorer.__call__() missing 1 required positional argument: 'y_true'\n",
            "\n",
            "  warnings.warn(\n",
            "/usr/local/lib/python3.11/dist-packages/sklearn/model_selection/_validation.py:960: UserWarning: Scoring failed. The score on this train-test partition for these parameters will be set to nan. Details: \n",
            "Traceback (most recent call last):\n",
            "  File \"/usr/local/lib/python3.11/dist-packages/sklearn/model_selection/_validation.py\", line 947, in _score\n",
            "    scores = scorer(estimator, X_test, **score_params)\n",
            "             ^^^^^^^^^^^^^^^^^^^^^^^^^^^^^^^^^^^^^^^^^\n",
            "TypeError: _BaseScorer.__call__() missing 1 required positional argument: 'y_true'\n",
            "\n",
            "  warnings.warn(\n",
            "/usr/local/lib/python3.11/dist-packages/sklearn/model_selection/_validation.py:960: UserWarning: Scoring failed. The score on this train-test partition for these parameters will be set to nan. Details: \n",
            "Traceback (most recent call last):\n",
            "  File \"/usr/local/lib/python3.11/dist-packages/sklearn/model_selection/_validation.py\", line 947, in _score\n",
            "    scores = scorer(estimator, X_test, **score_params)\n",
            "             ^^^^^^^^^^^^^^^^^^^^^^^^^^^^^^^^^^^^^^^^^\n",
            "TypeError: _BaseScorer.__call__() missing 1 required positional argument: 'y_true'\n",
            "\n",
            "  warnings.warn(\n",
            "/usr/local/lib/python3.11/dist-packages/sklearn/model_selection/_validation.py:960: UserWarning: Scoring failed. The score on this train-test partition for these parameters will be set to nan. Details: \n",
            "Traceback (most recent call last):\n",
            "  File \"/usr/local/lib/python3.11/dist-packages/sklearn/model_selection/_validation.py\", line 947, in _score\n",
            "    scores = scorer(estimator, X_test, **score_params)\n",
            "             ^^^^^^^^^^^^^^^^^^^^^^^^^^^^^^^^^^^^^^^^^\n",
            "TypeError: _BaseScorer.__call__() missing 1 required positional argument: 'y_true'\n",
            "\n",
            "  warnings.warn(\n",
            "/usr/local/lib/python3.11/dist-packages/sklearn/model_selection/_validation.py:960: UserWarning: Scoring failed. The score on this train-test partition for these parameters will be set to nan. Details: \n",
            "Traceback (most recent call last):\n",
            "  File \"/usr/local/lib/python3.11/dist-packages/sklearn/model_selection/_validation.py\", line 947, in _score\n",
            "    scores = scorer(estimator, X_test, **score_params)\n",
            "             ^^^^^^^^^^^^^^^^^^^^^^^^^^^^^^^^^^^^^^^^^\n",
            "TypeError: _BaseScorer.__call__() missing 1 required positional argument: 'y_true'\n",
            "\n",
            "  warnings.warn(\n",
            "/usr/local/lib/python3.11/dist-packages/sklearn/model_selection/_validation.py:960: UserWarning: Scoring failed. The score on this train-test partition for these parameters will be set to nan. Details: \n",
            "Traceback (most recent call last):\n",
            "  File \"/usr/local/lib/python3.11/dist-packages/sklearn/model_selection/_validation.py\", line 947, in _score\n",
            "    scores = scorer(estimator, X_test, **score_params)\n",
            "             ^^^^^^^^^^^^^^^^^^^^^^^^^^^^^^^^^^^^^^^^^\n",
            "TypeError: _BaseScorer.__call__() missing 1 required positional argument: 'y_true'\n",
            "\n",
            "  warnings.warn(\n",
            "/usr/local/lib/python3.11/dist-packages/sklearn/model_selection/_validation.py:960: UserWarning: Scoring failed. The score on this train-test partition for these parameters will be set to nan. Details: \n",
            "Traceback (most recent call last):\n",
            "  File \"/usr/local/lib/python3.11/dist-packages/sklearn/model_selection/_validation.py\", line 947, in _score\n",
            "    scores = scorer(estimator, X_test, **score_params)\n",
            "             ^^^^^^^^^^^^^^^^^^^^^^^^^^^^^^^^^^^^^^^^^\n",
            "TypeError: _BaseScorer.__call__() missing 1 required positional argument: 'y_true'\n",
            "\n",
            "  warnings.warn(\n",
            "/usr/local/lib/python3.11/dist-packages/sklearn/model_selection/_validation.py:960: UserWarning: Scoring failed. The score on this train-test partition for these parameters will be set to nan. Details: \n",
            "Traceback (most recent call last):\n",
            "  File \"/usr/local/lib/python3.11/dist-packages/sklearn/model_selection/_validation.py\", line 947, in _score\n",
            "    scores = scorer(estimator, X_test, **score_params)\n",
            "             ^^^^^^^^^^^^^^^^^^^^^^^^^^^^^^^^^^^^^^^^^\n",
            "TypeError: _BaseScorer.__call__() missing 1 required positional argument: 'y_true'\n",
            "\n",
            "  warnings.warn(\n",
            "/usr/local/lib/python3.11/dist-packages/sklearn/model_selection/_validation.py:960: UserWarning: Scoring failed. The score on this train-test partition for these parameters will be set to nan. Details: \n",
            "Traceback (most recent call last):\n",
            "  File \"/usr/local/lib/python3.11/dist-packages/sklearn/model_selection/_validation.py\", line 947, in _score\n",
            "    scores = scorer(estimator, X_test, **score_params)\n",
            "             ^^^^^^^^^^^^^^^^^^^^^^^^^^^^^^^^^^^^^^^^^\n",
            "TypeError: _BaseScorer.__call__() missing 1 required positional argument: 'y_true'\n",
            "\n",
            "  warnings.warn(\n",
            "/usr/local/lib/python3.11/dist-packages/sklearn/model_selection/_validation.py:960: UserWarning: Scoring failed. The score on this train-test partition for these parameters will be set to nan. Details: \n",
            "Traceback (most recent call last):\n",
            "  File \"/usr/local/lib/python3.11/dist-packages/sklearn/model_selection/_validation.py\", line 947, in _score\n",
            "    scores = scorer(estimator, X_test, **score_params)\n",
            "             ^^^^^^^^^^^^^^^^^^^^^^^^^^^^^^^^^^^^^^^^^\n",
            "TypeError: _BaseScorer.__call__() missing 1 required positional argument: 'y_true'\n",
            "\n",
            "  warnings.warn(\n",
            "/usr/local/lib/python3.11/dist-packages/sklearn/model_selection/_validation.py:960: UserWarning: Scoring failed. The score on this train-test partition for these parameters will be set to nan. Details: \n",
            "Traceback (most recent call last):\n",
            "  File \"/usr/local/lib/python3.11/dist-packages/sklearn/model_selection/_validation.py\", line 947, in _score\n",
            "    scores = scorer(estimator, X_test, **score_params)\n",
            "             ^^^^^^^^^^^^^^^^^^^^^^^^^^^^^^^^^^^^^^^^^\n",
            "TypeError: _BaseScorer.__call__() missing 1 required positional argument: 'y_true'\n",
            "\n",
            "  warnings.warn(\n",
            "/usr/local/lib/python3.11/dist-packages/sklearn/model_selection/_validation.py:960: UserWarning: Scoring failed. The score on this train-test partition for these parameters will be set to nan. Details: \n",
            "Traceback (most recent call last):\n",
            "  File \"/usr/local/lib/python3.11/dist-packages/sklearn/model_selection/_validation.py\", line 947, in _score\n",
            "    scores = scorer(estimator, X_test, **score_params)\n",
            "             ^^^^^^^^^^^^^^^^^^^^^^^^^^^^^^^^^^^^^^^^^\n",
            "TypeError: _BaseScorer.__call__() missing 1 required positional argument: 'y_true'\n",
            "\n",
            "  warnings.warn(\n",
            "/usr/local/lib/python3.11/dist-packages/sklearn/model_selection/_validation.py:960: UserWarning: Scoring failed. The score on this train-test partition for these parameters will be set to nan. Details: \n",
            "Traceback (most recent call last):\n",
            "  File \"/usr/local/lib/python3.11/dist-packages/sklearn/model_selection/_validation.py\", line 947, in _score\n",
            "    scores = scorer(estimator, X_test, **score_params)\n",
            "             ^^^^^^^^^^^^^^^^^^^^^^^^^^^^^^^^^^^^^^^^^\n",
            "TypeError: _BaseScorer.__call__() missing 1 required positional argument: 'y_true'\n",
            "\n",
            "  warnings.warn(\n",
            "/usr/local/lib/python3.11/dist-packages/sklearn/model_selection/_validation.py:960: UserWarning: Scoring failed. The score on this train-test partition for these parameters will be set to nan. Details: \n",
            "Traceback (most recent call last):\n",
            "  File \"/usr/local/lib/python3.11/dist-packages/sklearn/model_selection/_validation.py\", line 947, in _score\n",
            "    scores = scorer(estimator, X_test, **score_params)\n",
            "             ^^^^^^^^^^^^^^^^^^^^^^^^^^^^^^^^^^^^^^^^^\n",
            "TypeError: _BaseScorer.__call__() missing 1 required positional argument: 'y_true'\n",
            "\n",
            "  warnings.warn(\n",
            "/usr/local/lib/python3.11/dist-packages/sklearn/model_selection/_search.py:1108: UserWarning: One or more of the test scores are non-finite: [nan nan nan nan nan]\n",
            "  warnings.warn(\n"
          ]
        },
        {
          "output_type": "execute_result",
          "data": {
            "text/plain": [
              "{'Classification Metrics': {'Accuracy': 0.858603066439523,\n",
              "  'Precision': 0.8197893758711475,\n",
              "  'Recall': 0.858603066439523},\n",
              " 'Best K for Clustering': 2,\n",
              " 'Model without Clustering': {'MAE': 2.7450059387500945e-14,\n",
              "  'MSE': 1.1908257410116078e-27,\n",
              "  'R2': 1.0}}"
            ]
          },
          "metadata": {},
          "execution_count": 36
        }
      ]
    },
    {
      "cell_type": "markdown",
      "source": [
        "1. Evaluasi Kinerja Model\n",
        "\n",
        "**MODEL DENGAN CLUSTERING**\n",
        "\n",
        "MAE: 5.409818595994045e-14\n",
        "\n",
        "MSE:4.133701081409679e-27\n",
        "\n",
        "R² Score: 1.0\n",
        "\n",
        "**MODEL DENGAN CLUSTERING**\n",
        "\n",
        "MAE:2.7450059387500945e-14\n",
        "\n",
        "MSE:1.1908257410116078e-27\n",
        "\n",
        "R² Score: 1.0\n",
        "\n",
        "Kedua model memiliki R² Score sebesar 1.0, yang menunjukkan bahwa model sepenuhnya mampu menjelaskan variabilitas dalam data. MAE dan MSE yang sangat kecil pada kedua model menunjukkan bahwa keduanya memberikan prediksi yang sangat akurat, dengan perbedaan yang hampir tidak signifikan.Clustering tidak memberikan peningkatan signifikan dalam regresi, karena hasil evaluasi model dengan dan tanpa clustering hampir identik.\n",
        "\n",
        "\n",
        "**Klasifikasi (Kategori Durasi)**\n",
        "\n",
        "akurasi: 85.86%\n",
        "\n",
        "presisi: 81.98%\n",
        "\n",
        "recall: 85.86%\n",
        "\n",
        "Akurasi model klasifikasi cukup tinggi (85.86%), menunjukkan bahwa model dapat mengelompokkan durasi dengan baik. Presisi 81.98% menunjukkan bahwa sebagian besar prediksi yang dibuat benar. Recall 85.86% menunjukkan bahwa model cukup baik dalam menangkap seluruh data yang seharusnya diprediksi.\n",
        "\n",
        "**OPTIMASI HYPERPARAMETER**\n",
        "\n",
        "Best K (Jumlah Klaster Terbaik) = 2\n",
        "Ditemukan melalui GridSearchCV dengan MSE minimum. Model bekerja optimal saat dikelompokkan menjadi 2 klaster.\n",
        "\n",
        "**KESIMPULAN**\n",
        "\n",
        "Clustering bermanfaat untuk meningkatkan akurasi klasifikasi kategori durasi, dengan akurasi 85.86%. Untuk prediksi durasi numerik (regresi), model tanpa clustering sudah optimal, dengan R² = 1.0."
      ],
      "metadata": {
        "id": "HPJGFLPAQuKa"
      }
    }
  ]
}